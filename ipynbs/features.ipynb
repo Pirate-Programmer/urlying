{
 "cells": [
  {
   "cell_type": "code",
   "execution_count": 1,
   "id": "3bdd8b44-8ff1-4981-9260-4181054d8748",
   "metadata": {},
   "outputs": [],
   "source": [
    "import math\n",
    "from collections import Counter\n",
    "import re\n",
    "import pandas as pd"
   ]
  },
  {
   "cell_type": "code",
   "execution_count": 2,
   "id": "a02d9af1-40f9-4e97-97f4-16a05e46aad6",
   "metadata": {},
   "outputs": [],
   "source": [
    "def is_https(url):\n",
    "    try:\n",
    "        if url.startswith(\"https://\"):\n",
    "            return 1\n",
    "        elif url.startswith(\"http://\"):\n",
    "            return 0\n",
    "        else:\n",
    "            raise ValueError(\"Invalid URL: must start with http:// or https://\")\n",
    "    except Exception as e:\n",
    "        print(f\"Error: {e}\")\n",
    "        return None"
   ]
  },
  {
   "cell_type": "code",
   "execution_count": 3,
   "id": "caa80996-44ac-4ec4-971c-2ad35d1a98a7",
   "metadata": {},
   "outputs": [],
   "source": [
    "def url_length(url):\n",
    "    try:\n",
    "        return len(url)  \n",
    "    except Exception as e:\n",
    "        print(f\"{e}\")\n",
    "        return None"
   ]
  },
  {
   "cell_type": "code",
   "execution_count": 5,
   "id": "ed44fc3f-d968-4a3a-a35b-83f051a80c7c",
   "metadata": {},
   "outputs": [],
   "source": [
    "def domain_length(url):\n",
    "    try:\n",
    "        if url.startswith(\"https://\"):\n",
    "            url = url[8:]\n",
    "        elif url.startswith(\"http://\"):\n",
    "            url = url[7:]\n",
    "        else:\n",
    "            raise ValueError(\"Invalid URL: must start with http:// or https://\")\n",
    "        \n",
    "        domain = url.split('/')[0].split(':')[0]\n",
    "        return domain, len(domain)\n",
    "    except Exception as e:\n",
    "        print(f\"Error: {e}\")\n",
    "        return None, 0"
   ]
  },
  {
   "cell_type": "code",
   "execution_count": 6,
   "id": "faed03f9-bc87-4739-8ede-0f3e9cb03934",
   "metadata": {},
   "outputs": [],
   "source": [
    "def path_length(url):\n",
    "    try:\n",
    "        if url.startswith(\"https://\"):\n",
    "            url = url[8:]\n",
    "        elif url.startswith(\"http://\"):\n",
    "            url = url[7:]\n",
    "        else:\n",
    "            raise ValueError(\"Invalid URL: must start with http:// or https://\")\n",
    "\n",
    "        parts = url.split('/', 1)\n",
    "        if len(parts) == 1:\n",
    "            return \"Path absent\", 0\n",
    "\n",
    "        path_part = parts[1]\n",
    "        path = path_part.split('?', 1)[0].split('#', 1)[0]\n",
    "\n",
    "        clean_path = '/' + path if path else ''\n",
    "        return clean_path, len(clean_path)\n",
    "\n",
    "    except Exception as e:\n",
    "        print(f\"Error: {e}\")\n",
    "        return None, 0\n"
   ]
  },
  {
   "cell_type": "code",
   "execution_count": 7,
   "id": "02695c55-1f2b-445f-acb5-7bb2c3283e7e",
   "metadata": {},
   "outputs": [],
   "source": [
    "def query_length_and_count(url):\n",
    "    try:\n",
    "        if '?' not in url:\n",
    "            return \"Query absent\", 0, 0\n",
    "\n",
    "        query_part = url.split('?', 1)[1]\n",
    "        query = query_part.split('#', 1)[0]\n",
    "\n",
    "        query_length = len(query)\n",
    "        query_count = len(query.split('&')) if query else 0\n",
    "\n",
    "        return query, query_length, query_count\n",
    "\n",
    "    except Exception as e:\n",
    "        print(f\"Error: {e}\")\n",
    "        return None, 0, 0"
   ]
  },
  {
   "cell_type": "code",
   "execution_count": 8,
   "id": "700ed7fb-a6dc-4bbe-9548-8371b3fbd53e",
   "metadata": {},
   "outputs": [],
   "source": [
    "def fragment_length(url):\n",
    "    try:\n",
    "        if '#' not in url:\n",
    "            return \"Fragment absent\", 0\n",
    "\n",
    "        fragment = url.split('#', 1)[1]\n",
    "        return fragment, len(fragment)\n",
    "\n",
    "    except Exception as e:\n",
    "        print(f\"Error: {e}\")\n",
    "        return None, 0"
   ]
  },
  {
   "cell_type": "code",
   "execution_count": 41,
   "id": "ffa3a00f-b793-487e-89b4-c6337d1c3cd3",
   "metadata": {
    "scrolled": true
   },
   "outputs": [],
   "source": [
    "def shannon_entropy(text):\n",
    "    try:\n",
    "        if not text:\n",
    "            return 0.0\n",
    "\n",
    "        freq = Counter(text)\n",
    "        length = len(text)\n",
    "\n",
    "        entropy = 0.0\n",
    "        for count in freq.values():\n",
    "            p = count / length\n",
    "            entropy -= p * math.log2(p)\n",
    "\n",
    "        return entropy\n",
    "\n",
    "    except Exception as e:\n",
    "        print(f\"Error: {e}\")\n",
    "        return 0.0"
   ]
  },
  {
   "cell_type": "code",
   "execution_count": 42,
   "id": "0df1fe63-0c92-403d-9ca9-7135baf31eeb",
   "metadata": {},
   "outputs": [],
   "source": [
    "def count_dots(url):\n",
    "    try:\n",
    "        return url.count('.')\n",
    "    except Exception as e:\n",
    "        print(f\"Error: {e}\")\n",
    "        return 0"
   ]
  },
  {
   "cell_type": "code",
   "execution_count": 43,
   "id": "0248fa1d-215e-4a91-845c-b658d4961368",
   "metadata": {},
   "outputs": [],
   "source": [
    "def count_at_symbols(url):\n",
    "    try:\n",
    "        return url.count('@')\n",
    "    except Exception as e:\n",
    "        print(f\"Error: {e}\")\n",
    "        return 0"
   ]
  },
  {
   "cell_type": "code",
   "execution_count": 44,
   "id": "25a0ae9e-3afd-4bd8-99ff-51a8584b94a2",
   "metadata": {},
   "outputs": [],
   "source": [
    "def count_equals(url):\n",
    "    try:\n",
    "        return url.count('=')\n",
    "    except Exception as e:\n",
    "        print(f\"Error: {e}\")\n",
    "        return 0"
   ]
  },
  {
   "cell_type": "code",
   "execution_count": 10,
   "id": "ca1b399e-62fd-44ae-bf83-56f00444dec4",
   "metadata": {},
   "outputs": [],
   "source": [
    "def count_special_chars(url):\n",
    "    try:\n",
    "        return len(re.findall(r'[^a-zA-Z0-9./@=:%\\-&~?_]', url))\n",
    "    except Exception as e:\n",
    "        print(f\"Error: {e}\")\n",
    "        return 0"
   ]
  },
  {
   "cell_type": "code",
   "execution_count": 46,
   "id": "9b0f58ee-36a8-4024-8c09-c87f681d1d29",
   "metadata": {},
   "outputs": [],
   "source": [
    "def count_slashes(url):\n",
    "    try:\n",
    "        return url.count('/')\n",
    "    except Exception as e:\n",
    "        print(f\"Error: {e}\")\n",
    "        return 0"
   ]
  },
  {
   "cell_type": "code",
   "execution_count": 47,
   "id": "3e6fb613-a205-4c77-b731-836678e18d5e",
   "metadata": {},
   "outputs": [],
   "source": [
    "def count_hyphens(url):\n",
    "    try:\n",
    "        return url.count('-')\n",
    "    except Exception as e:\n",
    "        print(f\"Error: {e}\")\n",
    "        return 0"
   ]
  },
  {
   "cell_type": "code",
   "execution_count": 48,
   "id": "1e6f0fd2-8b5a-49e6-a7bc-7c05b76a878e",
   "metadata": {},
   "outputs": [],
   "source": [
    "def count_digits(url):\n",
    "    try:\n",
    "        return sum(c.isdigit() for c in url)\n",
    "    except Exception as e:\n",
    "        print(f\"Error: {e}\")\n",
    "        return 0"
   ]
  },
  {
   "cell_type": "code",
   "execution_count": 49,
   "id": "963c1c27-f4c9-466e-a496-5f196980b024",
   "metadata": {},
   "outputs": [],
   "source": [
    "def count_colons(url):\n",
    "    try:\n",
    "        return url.count(':')\n",
    "    except Exception as e:\n",
    "        print(f\"Error: {e}\")\n",
    "        return 0"
   ]
  },
  {
   "cell_type": "code",
   "execution_count": 1,
   "id": "c2ecf882-b2ea-42b3-8bfc-ca998e3158b4",
   "metadata": {},
   "outputs": [],
   "source": [
    "def count_qm(url):\n",
    "    try:\n",
    "        return url.count('?')\n",
    "    except Exception as e:\n",
    "        print(f\"Error: {e}\")\n",
    "        return 0"
   ]
  },
  {
   "cell_type": "code",
   "execution_count": 3,
   "id": "a81bbf13-7046-43f3-a42e-bfbd07ebd9d8",
   "metadata": {},
   "outputs": [],
   "source": [
    "def count_and(url):\n",
    "    try:\n",
    "        return url.count('&')\n",
    "    except Exception as e:\n",
    "        print(f\"Error: {e}\")\n",
    "        return 0"
   ]
  },
  {
   "cell_type": "code",
   "execution_count": 4,
   "id": "bea1a722-97a4-4c13-a49f-76db8153339f",
   "metadata": {},
   "outputs": [],
   "source": [
    "def count_underscore(url):\n",
    "    try:\n",
    "        return url.count('_')\n",
    "    except Exception as e:\n",
    "        print(f\"Error: {e}\")\n",
    "        return 0"
   ]
  },
  {
   "cell_type": "code",
   "execution_count": 5,
   "id": "63e8afe9-65e4-4e18-8878-1ffb5dd14aa1",
   "metadata": {},
   "outputs": [],
   "source": [
    "def count_tilde(url):\n",
    "    try:\n",
    "        return url.count('~')\n",
    "    except Exception as e:\n",
    "        print(f\"Error: {e}\")\n",
    "        return 0"
   ]
  },
  {
   "cell_type": "code",
   "execution_count": 6,
   "id": "f4896d96-c8df-4bb1-b060-15d33983164b",
   "metadata": {},
   "outputs": [],
   "source": [
    "def count_percent(url):\n",
    "    try:\n",
    "        return url.count('%')\n",
    "    except Exception as e:\n",
    "        print(f\"Error: {e}\")\n",
    "        return 0"
   ]
  },
  {
   "cell_type": "code",
   "execution_count": 7,
   "id": "5fe47373-523e-47a6-8f51-248ca1c21808",
   "metadata": {},
   "outputs": [],
   "source": [
    "def count_lowercase_letters(url):\n",
    "    try:\n",
    "        return sum(1 for c in url if c.islower())\n",
    "    except Exception as e:\n",
    "        print(f\"Error: {e}\")\n",
    "        return 0"
   ]
  },
  {
   "cell_type": "code",
   "execution_count": 8,
   "id": "f9b7f4a3-bd6a-4da4-b671-a5b80d53bcf3",
   "metadata": {},
   "outputs": [],
   "source": [
    "def count_uppercase_letters(url):\n",
    "    try:\n",
    "        return sum(1 for c in url if c.isupper())\n",
    "    except Exception as e:\n",
    "        print(f\"Error: {e}\")\n",
    "        return 0"
   ]
  },
  {
   "cell_type": "code",
   "execution_count": 9,
   "id": "c9f74e52-6857-4c9d-85b2-ccc1a812208f",
   "metadata": {},
   "outputs": [],
   "source": [
    "def upper_to_lower_ratio(upper, lower):\n",
    "    try:\n",
    "        if lower == 0:\n",
    "            return round(upper, 2) if upper != 0 else 0.0 \n",
    "        return round(upper / lower, 2)\n",
    "    except Exception as e:\n",
    "        print(f\"Error: {e} | upper: {upper}, lower: {lower}\")\n",
    "        return 0.0"
   ]
  },
  {
   "cell_type": "code",
   "execution_count": 50,
   "id": "353a5044-eccb-4b3f-8d51-815cd4d2e165",
   "metadata": {},
   "outputs": [],
   "source": [
    "def count_subdomains(domain):\n",
    "    try:\n",
    "        parts = domain.split('.')\n",
    "        if len(parts) <= 2:\n",
    "            return 0  \n",
    "        return len(parts) - 2  \n",
    "    except Exception as e:\n",
    "        print(f\"Error: {e}\")\n",
    "        return 0"
   ]
  },
  {
   "cell_type": "code",
   "execution_count": 51,
   "id": "40c8cdfb-d1b5-4c3b-8d80-8b74a1cc2bc4",
   "metadata": {},
   "outputs": [],
   "source": [
    "def is_domain_ip(domain):\n",
    "    try:\n",
    "        parts = domain.split('.')\n",
    "        if len(parts) != 4:\n",
    "            return False\n",
    "\n",
    "        for part in parts:\n",
    "            if not part.isdigit():\n",
    "                return False\n",
    "            num = int(part)\n",
    "            if num < 0 or num > 255:\n",
    "                return False\n",
    "\n",
    "        return True\n",
    "    except Exception as e:\n",
    "        print(f\"Error: {e}\")\n",
    "        return False"
   ]
  },
  {
   "cell_type": "code",
   "execution_count": 52,
   "id": "29e73584-bcf6-4e5b-832b-481cb9fdb1ea",
   "metadata": {},
   "outputs": [],
   "source": [
    "def extract_tld(domain):\n",
    "    try:\n",
    "        parts = domain.split('.')\n",
    "        if len(parts) < 2:\n",
    "            return \"Invalid URL, TLD absent\"\n",
    "        return parts[-1].lower()\n",
    "    except Exception as e:\n",
    "        print(f\"Error: {e}\")\n",
    "        return \"\""
   ]
  },
  {
   "cell_type": "code",
   "execution_count": 53,
   "id": "e18d6d4a-66d7-4078-834b-8408866f1087",
   "metadata": {},
   "outputs": [],
   "source": [
    "def check_tld_and_mtld(domain, tld_df):\n",
    "    try:\n",
    "        tld_set = set(tld_df.iloc[:, 0].astype(str).str.lower().str.strip())\n",
    "\n",
    "        parts = domain.split('.')\n",
    "        if len(parts) < 2:\n",
    "            return False, False  \n",
    "\n",
    "        mtld = parts[-2].lower()  \n",
    "        tld = parts[-1].lower()\n",
    "\n",
    "        return tld in tld_set, mtld in tld_set\n",
    "    except Exception as e:\n",
    "        print(f\"Error: {e}\")\n",
    "        return False, False\n"
   ]
  },
  {
   "cell_type": "code",
   "execution_count": 56,
   "id": "f448e2fa-0dff-400b-94a8-38d844817ee1",
   "metadata": {},
   "outputs": [],
   "source": [
    "def path_depth(path):\n",
    "    try:\n",
    "        if path.lower() == \"path absent\":\n",
    "            return 0\n",
    "        parts = [p for p in path.split('/') if p]\n",
    "        return len(parts)\n",
    "    except Exception as e:\n",
    "        print(f\"Error: {e}\")\n",
    "        return 0"
   ]
  },
  {
   "cell_type": "code",
   "execution_count": null,
   "id": "8757bc91-2ff4-4787-8148-a3d68e46443f",
   "metadata": {},
   "outputs": [],
   "source": [
    "def character_transition_entropy(text):\n",
    "    try:\n",
    "        if not text or len(text) < 2:\n",
    "            return 0.0\n",
    "\n",
    "        bigrams = [text[i:i+2] for i in range(len(text)-1)]\n",
    "        total = len(bigrams)\n",
    "\n",
    "        freq = Counter(bigrams)\n",
    "        entropy = 0.0\n",
    "        for count in freq.values():\n",
    "            p = count / total\n",
    "            entropy -= p * math.log2(p)\n",
    "\n",
    "        return entropy\n",
    "\n",
    "    except Exception as e:\n",
    "        print(f\"Error: {e}\")\n",
    "        return 0.0"
   ]
  },
  {
   "cell_type": "code",
   "execution_count": 59,
   "id": "756a733a-bef2-4dc0-a3d9-e1c8c307241e",
   "metadata": {},
   "outputs": [],
   "source": [
    "try:\n",
    "    tlds = pd.read_csv(\"../datasets/tlds/tlds.csv\")\n",
    "except FileNotFoundError:\n",
    "    print(\"Error: The file '../datasets/tlds/tlds.csv' was not found.\")\n",
    "    tlds = None"
   ]
  },
  {
   "cell_type": "code",
   "execution_count": null,
   "id": "a6b9ea65-6626-4126-912a-b0650b286ebd",
   "metadata": {},
   "outputs": [],
   "source": [
    "for i in range(1, 62):\n",
    "    file_name = f\"../datasets/training_dataset_with_features/urls_{i}.csv\"\n",
    "    \n",
    "    try:\n",
    "        df = pd.read_csv(file_name)\n",
    "\n",
    "        # df[\"is_https\"] = df[\"url\"].apply(is_https)\n",
    "        \n",
    "        # df[\"dots\"] = df[\"url\"].apply(count_dots)\n",
    "        # df[\"at\"] = df[\"url\"].apply(count_at_symbols)\n",
    "        # df[\"special_chars\"] = df[\"url\"].apply(count_special_chars) remaining to be added\n",
    "        # df[\"colons\"] = df[\"url\"].apply(count_colons)\n",
    "        # df[\"equals\"] = df[\"url\"].apply(count_equals)\n",
    "        # df[\"slashes\"] = df[\"url\"].apply(count_slashes)\n",
    "        # df[\"hyphens\"] = df[\"url\"].apply(count_hyphens)\n",
    "        # df[\"digits\"] = df[\"url\"].apply(count_digits)\n",
    "        # df[\"question_marks\"] = df[\"url\"].apply(count_qm)\n",
    "        # df[\"and\"] = df[\"url\"].apply(count_and)\n",
    "        # df[\"tilde\"] = df[\"url\"].apply(count_tilde)\n",
    "        # df[\"underscore\"] = df[\"url\"].apply(count_underscore)\n",
    "        # df[\"percent\"] = df[\"url\"].apply(count_percent)\n",
    "        # df[\"lowercase\"] = df[\"url\"].apply(count_lowercase_letters)\n",
    "        # df[\"uppercase\"] = df[\"url\"].apply(count_uppercase_letters)\n",
    "\n",
    "        # df[\"upper_to_lower_ratio\"] = df.apply(\n",
    "        #     lambda row: upper_to_lower_ratio(row[\"uppercase\"], row[\"lowercase\"]),\n",
    "        #     axis=1\n",
    "        # )\n",
    "\n",
    "        # df[\"url_length\"] = df[\"url\"].apply(url_length)\n",
    "\n",
    "        # df[\"se_url\"] = df[\"url\"].apply(shannon_entropy)\n",
    "        # df[\"se_domain\"] = df[\"url\"].apply(shannon_entropy)\n",
    "        # df[\"se_path\"] = df[\"url\"].apply(shannon_entropy)\n",
    "        # df[\"se_query\"] = df[\"url\"].apply(shannon_entropy)\n",
    "        # df[\"se_fragment\"] = df[\"url\"].apply(shannon_entropy)\n",
    "        # df[\"cte_domain\"] = df[\"url\"].apply(character_transition_entropy)\n",
    "        \n",
    "        df.to_csv(f\"../datasets/training_dataset_with_features/urls_{i}.csv\", index=False)\n",
    "        print(f\"Processed and saved: urls_{i}.csv\")\n",
    "        \n",
    "    except FileNotFoundError:\n",
    "        print(f\"File not found: {file_name}\")\n",
    "    except Exception as e:\n",
    "        print(f\"Error with file {file_name}: {e}\")"
   ]
  }
 ],
 "metadata": {
  "kernelspec": {
   "display_name": "Python 3 (ipykernel)",
   "language": "python",
   "name": "python3"
  },
  "language_info": {
   "codemirror_mode": {
    "name": "ipython",
    "version": 3
   },
   "file_extension": ".py",
   "mimetype": "text/x-python",
   "name": "python",
   "nbconvert_exporter": "python",
   "pygments_lexer": "ipython3",
   "version": "3.12.6"
  },
  "widgets": {
   "application/vnd.jupyter.widget-state+json": {
    "state": {},
    "version_major": 2,
    "version_minor": 0
   }
  }
 },
 "nbformat": 4,
 "nbformat_minor": 5
}
