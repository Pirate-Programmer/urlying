{
 "cells": [
  {
   "cell_type": "code",
   "execution_count": 2,
   "id": "3bdd8b44-8ff1-4981-9260-4181054d8748",
   "metadata": {},
   "outputs": [],
   "source": [
    "import math\n",
    "from collections import Counter\n",
    "import re\n",
    "import pandas as pd\n",
    "import base64"
   ]
  },
  {
   "cell_type": "code",
   "execution_count": 1,
   "id": "a02d9af1-40f9-4e97-97f4-16a05e46aad6",
   "metadata": {},
   "outputs": [],
   "source": [
    "def is_https(url):\n",
    "    return url.startswith(\"https://\")"
   ]
  },
  {
   "cell_type": "code",
   "execution_count": 1,
   "id": "caa80996-44ac-4ec4-971c-2ad35d1a98a7",
   "metadata": {},
   "outputs": [],
   "source": [
    "def url_length(url):\n",
    "    return len(url.strip())"
   ]
  },
  {
   "cell_type": "code",
   "execution_count": 1,
   "id": "ed44fc3f-d968-4a3a-a35b-83f051a80c7c",
   "metadata": {},
   "outputs": [
    {
     "name": "stdout",
     "output_type": "stream",
     "text": [
      "14\n"
     ]
    }
   ],
   "source": [
    "def domain_length(url):\n",
    "    url = url.strip().lower()\n",
    "\n",
    "    if url.startswith(\"https://\"):\n",
    "        url = url[8:]\n",
    "    elif url.startswith(\"http://\"):\n",
    "        url = url[7:]\n",
    "\n",
    "    domain = url.split('/')[0].split(':')[0]\n",
    "    return domain, len(domain)"
   ]
  },
  {
   "cell_type": "code",
   "execution_count": 2,
   "id": "faed03f9-bc87-4739-8ede-0f3e9cb03934",
   "metadata": {},
   "outputs": [],
   "source": [
    "def path_length(url):\n",
    "    url = url.strip().lower()\n",
    "\n",
    "    # Remove scheme\n",
    "    if url.startswith(\"https://\"):\n",
    "        url = url[8:]\n",
    "    elif url.startswith(\"http://\"):\n",
    "        url = url[7:]\n",
    "\n",
    "    parts = url.split('/', 1)\n",
    "    if len(parts) == 1:\n",
    "        return \"Path absent\", 0\n",
    "\n",
    "    path_part = parts[1]\n",
    "    path = path_part.split('?', 1)[0].split('#', 1)[0]\n",
    "\n",
    "    clean_path = '/' + path if path else ''\n",
    "    return clean_path, len(clean_path)"
   ]
  },
  {
   "cell_type": "code",
   "execution_count": 3,
   "id": "02695c55-1f2b-445f-acb5-7bb2c3283e7e",
   "metadata": {},
   "outputs": [],
   "source": [
    "def query_length_and_count(url):\n",
    "    url = url.strip().lower()\n",
    "\n",
    "    if '?' not in url:\n",
    "        return \"Query absent\", 0, 0  # No query present\n",
    "\n",
    "    # Extract query part (remove fragment if present)\n",
    "    query_part = url.split('?', 1)[1]\n",
    "    query = query_part.split('#', 1)[0]\n",
    "\n",
    "    query_length = len(query)\n",
    "    query_count = len(query.split('&')) if query else 0\n",
    "\n",
    "    return query, query_length, query_count"
   ]
  },
  {
   "cell_type": "code",
   "execution_count": 7,
   "id": "700ed7fb-a6dc-4bbe-9548-8371b3fbd53e",
   "metadata": {},
   "outputs": [],
   "source": [
    "def fragment_length(url):\n",
    "    url = url.strip().lower()\n",
    "\n",
    "    if '#' not in url:\n",
    "        return \"Fragment absent\", 0\n",
    "\n",
    "    fragment = url.split('#', 1)[1]\n",
    "    return fragment, len(fragment)"
   ]
  },
  {
   "cell_type": "code",
   "execution_count": 3,
   "id": "ffa3a00f-b793-487e-89b4-c6337d1c3cd3",
   "metadata": {},
   "outputs": [
    {
     "name": "stdout",
     "output_type": "stream",
     "text": [
      "2.625814583693911\n"
     ]
    }
   ],
   "source": [
    "def shannon_entropy(url):\n",
    "    if not url:\n",
    "        return 0.0\n",
    "\n",
    "    freq = Counter(url)\n",
    "    length = len(url)\n",
    "\n",
    "    entropy = 0.0\n",
    "    for count in freq.values():\n",
    "        p = count / length\n",
    "        entropy -= p * math.log2(p)\n",
    "\n",
    "    return entropy\n",
    "\n",
    "print(shannon_entropy(\"211.98.21.34\"))"
   ]
  },
  {
   "cell_type": "code",
   "execution_count": 1,
   "id": "0df1fe63-0c92-403d-9ca9-7135baf31eeb",
   "metadata": {},
   "outputs": [],
   "source": [
    "import re\n",
    "\n",
    "def count_dots(url):\n",
    "    return url.count('.')"
   ]
  },
  {
   "cell_type": "code",
   "execution_count": 2,
   "id": "0248fa1d-215e-4a91-845c-b658d4961368",
   "metadata": {},
   "outputs": [],
   "source": [
    "def count_at_symbols(url):\n",
    "    return url.count('@')"
   ]
  },
  {
   "cell_type": "code",
   "execution_count": 3,
   "id": "25a0ae9e-3afd-4bd8-99ff-51a8584b94a2",
   "metadata": {},
   "outputs": [],
   "source": [
    "def count_equals(url):\n",
    "    return url.count('=')"
   ]
  },
  {
   "cell_type": "code",
   "execution_count": 4,
   "id": "ca1b399e-62fd-44ae-bf83-56f00444dec4",
   "metadata": {},
   "outputs": [],
   "source": [
    "def count_special_chars(url):\n",
    "    return len(re.findall(r'[^a-zA-Z0-9./]', url))"
   ]
  },
  {
   "cell_type": "code",
   "execution_count": 5,
   "id": "9b0f58ee-36a8-4024-8c09-c87f681d1d29",
   "metadata": {},
   "outputs": [],
   "source": [
    "def count_slashes(url):\n",
    "    return url.count('/')"
   ]
  },
  {
   "cell_type": "code",
   "execution_count": 6,
   "id": "3e6fb613-a205-4c77-b731-836678e18d5e",
   "metadata": {},
   "outputs": [],
   "source": [
    "def count_hyphens(url):\n",
    "    return url.count('-')"
   ]
  },
  {
   "cell_type": "code",
   "execution_count": 19,
   "id": "40c8cdfb-d1b5-4c3b-8d80-8b74a1cc2bc4",
   "metadata": {},
   "outputs": [],
   "source": [
    "def is_domain_ip(url):\n",
    "    # Remove protocol if present\n",
    "    if url.startswith(\"http://\"):\n",
    "        url = url[7:]\n",
    "    elif url.startswith(\"https://\"):\n",
    "        url = url[8:]\n",
    "\n",
    "    # Remove path, query, fragment — keep only domain\n",
    "    domain = url.split('/')[0].split(':')[0]\n",
    "\n",
    "    parts = domain.split('.')\n",
    "    if len(parts) != 4:\n",
    "        return False\n",
    "\n",
    "    for part in parts:\n",
    "        if not part.isdigit():\n",
    "            return False\n",
    "        num = int(part)\n",
    "        if num < 0 or num > 255:\n",
    "            return False\n",
    "\n",
    "    return True"
   ]
  },
  {
   "cell_type": "code",
   "execution_count": null,
   "id": "353a5044-eccb-4b3f-8d51-815cd4d2e165",
   "metadata": {},
   "outputs": [],
   "source": [
    "# check for ip\n",
    "\n",
    "def count_subdomains(url):\n",
    "    # Remove protocol if present\n",
    "    if url.startswith(\"http://\"):\n",
    "        url = url[7:]\n",
    "    elif url.startswith(\"https://\"):\n",
    "        url = url[8:]\n",
    "\n",
    "    # Remove port, path, query, and fragment\n",
    "    domain = url.split('/')[0].split(':')[0]\n",
    "\n",
    "    # Split domain by dots\n",
    "    parts = domain.split('.')\n",
    "\n",
    "    if len(parts) <= 2:\n",
    "        return 0  # No subdomain, only domain + TLD\n",
    "    \n",
    "    return len(parts) - 2  # Subdomains = total parts - domain - TLD"
   ]
  },
  {
   "cell_type": "code",
   "execution_count": 9,
   "id": "29e73584-bcf6-4e5b-832b-481cb9fdb1ea",
   "metadata": {},
   "outputs": [],
   "source": [
    "# handle condition of ip\n",
    "def extract_tld(url):\n",
    "    # Remove scheme\n",
    "    if url.startswith(\"http://\"):\n",
    "        url = url[7:]\n",
    "    elif url.startswith(\"https://\"):\n",
    "        url = url[8:]\n",
    "\n",
    "    # Remove port and path\n",
    "    domain = url.split('/')[0].split(':')[0]\n",
    "\n",
    "    parts = domain.split('.')\n",
    "    if len(parts) < 2:\n",
    "        return \"\"\n",
    "    return parts[-1].lower()"
   ]
  },
  {
   "cell_type": "code",
   "execution_count": 10,
   "id": "15296084-895c-46ae-b8c5-f46a7851e3d0",
   "metadata": {},
   "outputs": [],
   "source": [
    "import pandas as pd\n",
    "\n",
    "def load_csv(csv_path):\n",
    "    try:\n",
    "        return pd.read_csv(csv_path)\n",
    "    except Exception as e:\n",
    "        print(f\"[!] Error loading CSV: {e}\")\n",
    "        return pd.DataFrame()\n",
    "\n",
    "def is_tld_iana_registered_from_csv(url, tld_set):\n",
    "    tld = extract_tld(url)\n",
    "    return tld in tld_set"
   ]
  },
  {
   "cell_type": "code",
   "execution_count": 11,
   "id": "e18d6d4a-66d7-4078-834b-8408866f1087",
   "metadata": {},
   "outputs": [],
   "source": [
    "# ip condition\n",
    "\n",
    "def has_sld(url, tld_set):\n",
    "    # Remove protocol\n",
    "    if url.startswith(\"http://\"):\n",
    "        url = url[7:]\n",
    "    elif url.startswith(\"https://\"):\n",
    "        url = url[8:]\n",
    "\n",
    "    # Extract domain (strip path, port)\n",
    "    domain = url.split('/')[0].split(':')[0].lower()\n",
    "\n",
    "    # Split by dot\n",
    "    parts = domain.split('.')\n",
    "\n",
    "    if len(parts) < 2:\n",
    "        return False\n",
    "\n",
    "    # Check if second-last part is a valid TLD (i.e., looks like an SLD)\n",
    "    return parts[-2] in tld_set\n"
   ]
  },
  {
   "cell_type": "code",
   "execution_count": 12,
   "id": "d044af8d-909b-41a7-9faa-1dd6ccc36cef",
   "metadata": {},
   "outputs": [],
   "source": [
    "def check_hex_encoding(url):\n",
    "    # Find all %XX patterns\n",
    "    matches = re.findall(r'%[0-9a-fA-F]{2}', url)\n",
    "    has_encoding = len(matches) > 0\n",
    "    count = len(matches)\n",
    "    return has_encoding, count"
   ]
  },
  {
   "cell_type": "code",
   "execution_count": 13,
   "id": "b9b14594-5b81-485a-ac91-9b8919a70688",
   "metadata": {},
   "outputs": [],
   "source": [
    "import base64\n",
    "\n",
    "def contains_base64(url):\n",
    "    # Base64 patterns: at least 8 valid base64 chars (4^n), possibly with padding (= or ==)\n",
    "    candidates = re.findall(r'([A-Za-z0-9+/]{8,}={0,2})', url)\n",
    "    \n",
    "    for candidate in candidates:\n",
    "        try:\n",
    "            # Try to decode safely\n",
    "            decoded = base64.b64decode(candidate, validate=True)\n",
    "            # Additional: filter false positives by requiring decoded to be readable\n",
    "            if decoded and all(32 <= b <= 126 for b in decoded):  # printable ASCII\n",
    "                return True, candidate\n",
    "        except Exception:\n",
    "            continue\n",
    "\n",
    "    return False, \"-------------\""
   ]
  },
  {
   "cell_type": "code",
   "execution_count": 14,
   "id": "f448e2fa-0dff-400b-94a8-38d844817ee1",
   "metadata": {},
   "outputs": [],
   "source": [
    "def path_depth(url):\n",
    "    # Remove scheme\n",
    "    if url.startswith(\"http://\"):\n",
    "        url = url[7:]\n",
    "    elif url.startswith(\"https://\"):\n",
    "        url = url[8:]\n",
    "\n",
    "    # Remove domain and port\n",
    "    path_part = url.split('/', 1)[1] if '/' in url else ''\n",
    "    \n",
    "    # Remove query and fragment\n",
    "    path_part = path_part.split('?', 1)[0].split('#', 1)[0]\n",
    "\n",
    "    # Split by '/' and remove empty parts\n",
    "    parts = [p for p in path_part.split('/') if p]\n",
    "\n",
    "    return len(parts)\n"
   ]
  },
  {
   "cell_type": "code",
   "execution_count": 15,
   "id": "1e6f0fd2-8b5a-49e6-a7bc-7c05b76a878e",
   "metadata": {},
   "outputs": [],
   "source": [
    "def digit_count(url):\n",
    "    return sum(c.isdigit() for c in url)\n"
   ]
  },
  {
   "cell_type": "code",
   "execution_count": 16,
   "id": "963c1c27-f4c9-466e-a496-5f196980b024",
   "metadata": {},
   "outputs": [],
   "source": [
    "def count_colons(url):\n",
    "    return url.count(':')\n"
   ]
  },
  {
   "cell_type": "code",
   "execution_count": 17,
   "id": "ee58ffbb-5c40-45b3-b6f8-fc76e7fed904",
   "metadata": {},
   "outputs": [],
   "source": [
    "def is_punycode(url):\n",
    "    domain = url.split('//')[-1].split('/')[0]\n",
    "    return 'xn--' in domain"
   ]
  },
  {
   "cell_type": "code",
   "execution_count": 18,
   "id": "e21547af-3486-47e1-97f2-95f49e480306",
   "metadata": {},
   "outputs": [],
   "source": [
    "def character_transition_entropy(text):\n",
    "    if len(text) < 2:\n",
    "        return 0.0\n",
    "\n",
    "    bigrams = [text[i:i+2] for i in range(len(text)-1)]\n",
    "    total = len(bigrams)\n",
    "    \n",
    "    freq = Counter(bigrams)\n",
    "    entropy = 0.0\n",
    "    for count in freq.values():\n",
    "        p = count / total\n",
    "        entropy -= p * math.log2(p)\n",
    "\n",
    "    return entropy"
   ]
  },
  {
   "cell_type": "code",
   "execution_count": 5,
   "id": "d262048b-fe04-4640-866d-dde575e4e998",
   "metadata": {},
   "outputs": [],
   "source": [
    "def extract_features(url):\n",
    "    ishttps = 0\n",
    "    if is_https(url):\n",
    "        ishttps = 1\n",
    "\n",
    "    url_len = url_length(url)\n",
    "\n",
    "    domain, domain_len = domain_length(url)\n",
    "\n",
    "    is_domain_ip = 0\n",
    "    if is_domain_ip(domain):\n",
    "        is_domain_ip = 1\n",
    "        \n",
    "    path, path_len = path_length(url)\n",
    "    query, query_len, no_of_query = query_length_and_count(url)\n",
    "    fragment, fragment_len = fragment_length(url)\n",
    "    \n",
    "    se_url = shannon_entry(url)\n",
    "    se_domain = 10\n",
    "    se_path = 0\n",
    "    se_query = 0\n",
    "    se_fragment = 0\n",
    "    if(is_domain_ip == 0):\n",
    "        se_domain = shannon_entropy(domain)\n",
    "    if(path_len > 0):\n",
    "        se_path = shannon_entropy(path)\n",
    "    if(query_len > 0):\n",
    "        se_query = shannon_entropy(query)\n",
    "    if(fragment_len > 0):\n",
    "        se_fragment = shannon_entropy(fragment)\n",
    "\n",
    "    cte_domain = 0"
   ]
  },
  {
   "cell_type": "code",
   "execution_count": null,
   "id": "70fe08c6-715d-4059-a17f-ca9379f50e9e",
   "metadata": {},
   "outputs": [],
   "source": [
    "p"
   ]
  }
 ],
 "metadata": {
  "kernelspec": {
   "display_name": "Python 3 (ipykernel)",
   "language": "python",
   "name": "python3"
  },
  "language_info": {
   "codemirror_mode": {
    "name": "ipython",
    "version": 3
   },
   "file_extension": ".py",
   "mimetype": "text/x-python",
   "name": "python",
   "nbconvert_exporter": "python",
   "pygments_lexer": "ipython3",
   "version": "3.12.6"
  },
  "widgets": {
   "application/vnd.jupyter.widget-state+json": {
    "state": {},
    "version_major": 2,
    "version_minor": 0
   }
  }
 },
 "nbformat": 4,
 "nbformat_minor": 5
}
